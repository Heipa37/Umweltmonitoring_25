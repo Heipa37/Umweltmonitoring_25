{
 "cells": [
  {
   "cell_type": "code",
   "execution_count": null,
   "id": "707a9a38",
   "metadata": {},
   "outputs": [],
   "source": [
    "from db_management import DBManagement\n",
    "import datetime as dt\n",
    "from datetime import timezone"
   ]
  },
  {
   "cell_type": "code",
   "execution_count": null,
   "id": "769c0b3c",
   "metadata": {},
   "outputs": [],
   "source": [
    "# Connection to Sensebox and DB, for each sensebox \n",
    "dbm = DBManagement(\"5ea96b86cc50b1001b78fe27\")"
   ]
  },
  {
   "cell_type": "code",
   "execution_count": null,
   "id": "49b0e477",
   "metadata": {},
   "outputs": [],
   "source": [
    "# after Docker with postgres and timescale is running setting up the table for sensor data\n",
    "dbm.db_setup()"
   ]
  },
  {
   "cell_type": "code",
   "execution_count": null,
   "id": "3e6d8666",
   "metadata": {},
   "outputs": [],
   "source": [
    "# delete an resets the table\n",
    "# ONLY IF THERE ARE CHANGES IN THE SCHEMA!\n",
    "dbm.db_reset()"
   ]
  },
  {
   "cell_type": "code",
   "execution_count": null,
   "id": "a8e46211",
   "metadata": {},
   "outputs": [],
   "source": [
    "# datetime from: \n",
    "# datetimes with timezone : tz=timezone.utc\n",
    "dbm.write_new_data(datetime_from=dt.datetime.now(tz=timezone.utc)-dt.timedelta(days=60), \n",
    "                   datetime_to=dt.datetime.now(tz=timezone.utc)-dt.timedelta(days=30))"
   ]
  },
  {
   "cell_type": "code",
   "execution_count": null,
   "id": "404150ca",
   "metadata": {},
   "outputs": [],
   "source": [
    "#new data will only load after the last \n",
    "dbm.write_new_data(datetime_from=dt.datetime.now(tz=timezone.utc)-dt.timedelta(days=60), \n",
    "                   datetime_to=dt.datetime.now(tz=timezone.utc))"
   ]
  },
  {
   "cell_type": "code",
   "execution_count": null,
   "id": "b52169c2",
   "metadata": {},
   "outputs": [],
   "source": [
    "# collects all data available from the last saved datapoint in the DB or since beginning of the sensebox\n",
    "# NOT RECOMENDED AT THE MOMENT, TAKES TO LONG!\n",
    "dbm.write_new_data()"
   ]
  },
  {
   "cell_type": "code",
   "execution_count": null,
   "id": "e5d69268",
   "metadata": {},
   "outputs": [],
   "source": [
    "# get the data from the database\n",
    "df = dbm.read_data()\n",
    "df"
   ]
  },
  {
   "cell_type": "code",
   "execution_count": null,
   "id": "0fbc1846",
   "metadata": {},
   "outputs": [],
   "source": []
  }
 ],
 "metadata": {
  "kernelspec": {
   "display_name": "venv_UM25",
   "language": "python",
   "name": "python3"
  },
  "language_info": {
   "codemirror_mode": {
    "name": "ipython",
    "version": 3
   },
   "file_extension": ".py",
   "mimetype": "text/x-python",
   "name": "python",
   "nbconvert_exporter": "python",
   "pygments_lexer": "ipython3",
   "version": "3.12.7"
  }
 },
 "nbformat": 4,
 "nbformat_minor": 5
}
