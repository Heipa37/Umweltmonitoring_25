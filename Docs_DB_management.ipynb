{
 "cells": [
  {
   "cell_type": "code",
   "execution_count": 2,
   "id": "707a9a38",
   "metadata": {},
   "outputs": [],
   "source": [
    "from db_management import DBManagement\n",
    "import datetime as dt\n",
    "from datetime import timezone"
   ]
  },
  {
   "cell_type": "code",
   "execution_count": null,
   "id": "769c0b3c",
   "metadata": {},
   "outputs": [],
   "source": [
    "# Connection to Sensebox and DB, for each sensebox \n",
    "dbm = DBManagement(\"5ea96b86cc50b1001b78fe27\")"
   ]
  },
  {
   "cell_type": "code",
   "execution_count": null,
   "id": "49b0e477",
   "metadata": {},
   "outputs": [],
   "source": [
    "# after Docker with postgres and timescale is running setting up the table for sensor data\n",
    "dbm.db_setup()"
   ]
  },
  {
   "cell_type": "code",
   "execution_count": null,
   "id": "3e6d8666",
   "metadata": {},
   "outputs": [],
   "source": [
    "# delete an resets the table\n",
    "# ONLY IF THERE ARE CHANGES IN THE SCHEMA!\n",
    "dbm.db_reset()"
   ]
  },
  {
   "cell_type": "code",
   "execution_count": null,
   "id": "a8e46211",
   "metadata": {},
   "outputs": [],
   "source": [
    "# datetime from: \n",
    "# datetimes with timezone : tz=timezone.utc\n",
    "dbm.write_new_data(datetime_from=dt.datetime.now(tz=timezone.utc)-dt.timedelta(days=60), \n",
    "                   datetime_to=dt.datetime.now(tz=timezone.utc)-dt.timedelta(days=30))"
   ]
  },
  {
   "cell_type": "code",
   "execution_count": null,
   "id": "404150ca",
   "metadata": {},
   "outputs": [],
   "source": [
    "#new data will only load after the last \n",
    "dbm.write_new_data(datetime_from=dt.datetime.now(tz=timezone.utc)-dt.timedelta(days=60), \n",
    "                   datetime_to=dt.datetime.now(tz=timezone.utc))"
   ]
  },
  {
   "cell_type": "code",
   "execution_count": null,
   "id": "b52169c2",
   "metadata": {},
   "outputs": [],
   "source": [
    "# collects all data available from the last saved datapoint in the DB or since beginning of the sensebox\n",
    "# NOT RECOMENDED AT THE MOMENT, TAKES TO LONG!\n",
    "dbm.write_new_data()"
   ]
  },
  {
   "cell_type": "code",
   "execution_count": null,
   "id": "e5d69268",
   "metadata": {},
   "outputs": [],
   "source": [
    "# get the data from the database\n",
    "df = dbm.read_data()\n",
    "df"
   ]
  },
  {
   "cell_type": "code",
   "execution_count": 2,
   "id": "0fbc1846",
   "metadata": {},
   "outputs": [
    {
     "data": {
      "application/vnd.microsoft.datawrangler.viewer.v0+json": {
       "columns": [
        {
         "name": "index",
         "rawType": "int64",
         "type": "integer"
        },
        {
         "name": "title",
         "rawType": "object",
         "type": "string"
        },
        {
         "name": "unit",
         "rawType": "object",
         "type": "string"
        },
        {
         "name": "sensorType",
         "rawType": "object",
         "type": "string"
        },
        {
         "name": "icon",
         "rawType": "object",
         "type": "string"
        },
        {
         "name": "lastMeasurement",
         "rawType": "datetime64[ns, UTC]",
         "type": "unknown"
        },
        {
         "name": "sensor_id",
         "rawType": "object",
         "type": "string"
        }
       ],
       "ref": "b7581625-dc6c-4af0-bb1c-be5daf985f68",
       "rows": [
        [
         "0",
         "PM10",
         "µg/m³",
         "SDS 011",
         "osem-cloud",
         "2025-06-27 16:34:34.998000+00:00",
         "669a877ae3b7f1000824289d"
        ],
        [
         "1",
         "PM2.5",
         "µg/m³",
         "SDS 011",
         "osem-cloud",
         "2025-06-27 16:34:34.998000+00:00",
         "669a877ae3b7f1000824289e"
        ],
        [
         "2",
         "Temperatur",
         "°C",
         "BME280",
         "osem-thermometer",
         "2025-06-27 16:34:34.998000+00:00",
         "669a877ae3b7f1000824289f"
        ],
        [
         "3",
         "rel. Luftfeuchte",
         "%",
         "BME280",
         "osem-humidity",
         "2025-06-27 16:34:34.998000+00:00",
         "669a877ae3b7f100082428a0"
        ],
        [
         "4",
         "Luftdruck",
         "Pa",
         "BME280",
         "osem-barometer",
         "2025-06-27 16:34:34.998000+00:00",
         "669a877ae3b7f100082428a1"
        ]
       ],
       "shape": {
        "columns": 6,
        "rows": 5
       }
      },
      "text/html": [
       "<div>\n",
       "<style scoped>\n",
       "    .dataframe tbody tr th:only-of-type {\n",
       "        vertical-align: middle;\n",
       "    }\n",
       "\n",
       "    .dataframe tbody tr th {\n",
       "        vertical-align: top;\n",
       "    }\n",
       "\n",
       "    .dataframe thead th {\n",
       "        text-align: right;\n",
       "    }\n",
       "</style>\n",
       "<table border=\"1\" class=\"dataframe\">\n",
       "  <thead>\n",
       "    <tr style=\"text-align: right;\">\n",
       "      <th></th>\n",
       "      <th>title</th>\n",
       "      <th>unit</th>\n",
       "      <th>sensorType</th>\n",
       "      <th>icon</th>\n",
       "      <th>lastMeasurement</th>\n",
       "      <th>sensor_id</th>\n",
       "    </tr>\n",
       "  </thead>\n",
       "  <tbody>\n",
       "    <tr>\n",
       "      <th>0</th>\n",
       "      <td>PM10</td>\n",
       "      <td>µg/m³</td>\n",
       "      <td>SDS 011</td>\n",
       "      <td>osem-cloud</td>\n",
       "      <td>2025-06-27 16:34:34.998000+00:00</td>\n",
       "      <td>669a877ae3b7f1000824289d</td>\n",
       "    </tr>\n",
       "    <tr>\n",
       "      <th>1</th>\n",
       "      <td>PM2.5</td>\n",
       "      <td>µg/m³</td>\n",
       "      <td>SDS 011</td>\n",
       "      <td>osem-cloud</td>\n",
       "      <td>2025-06-27 16:34:34.998000+00:00</td>\n",
       "      <td>669a877ae3b7f1000824289e</td>\n",
       "    </tr>\n",
       "    <tr>\n",
       "      <th>2</th>\n",
       "      <td>Temperatur</td>\n",
       "      <td>°C</td>\n",
       "      <td>BME280</td>\n",
       "      <td>osem-thermometer</td>\n",
       "      <td>2025-06-27 16:34:34.998000+00:00</td>\n",
       "      <td>669a877ae3b7f1000824289f</td>\n",
       "    </tr>\n",
       "    <tr>\n",
       "      <th>3</th>\n",
       "      <td>rel. Luftfeuchte</td>\n",
       "      <td>%</td>\n",
       "      <td>BME280</td>\n",
       "      <td>osem-humidity</td>\n",
       "      <td>2025-06-27 16:34:34.998000+00:00</td>\n",
       "      <td>669a877ae3b7f100082428a0</td>\n",
       "    </tr>\n",
       "    <tr>\n",
       "      <th>4</th>\n",
       "      <td>Luftdruck</td>\n",
       "      <td>Pa</td>\n",
       "      <td>BME280</td>\n",
       "      <td>osem-barometer</td>\n",
       "      <td>2025-06-27 16:34:34.998000+00:00</td>\n",
       "      <td>669a877ae3b7f100082428a1</td>\n",
       "    </tr>\n",
       "  </tbody>\n",
       "</table>\n",
       "</div>"
      ],
      "text/plain": [
       "              title   unit sensorType              icon  \\\n",
       "0              PM10  µg/m³    SDS 011        osem-cloud   \n",
       "1             PM2.5  µg/m³    SDS 011        osem-cloud   \n",
       "2        Temperatur     °C     BME280  osem-thermometer   \n",
       "3  rel. Luftfeuchte      %     BME280     osem-humidity   \n",
       "4         Luftdruck     Pa     BME280    osem-barometer   \n",
       "\n",
       "                   lastMeasurement                 sensor_id  \n",
       "0 2025-06-27 16:34:34.998000+00:00  669a877ae3b7f1000824289d  \n",
       "1 2025-06-27 16:34:34.998000+00:00  669a877ae3b7f1000824289e  \n",
       "2 2025-06-27 16:34:34.998000+00:00  669a877ae3b7f1000824289f  \n",
       "3 2025-06-27 16:34:34.998000+00:00  669a877ae3b7f100082428a0  \n",
       "4 2025-06-27 16:34:34.998000+00:00  669a877ae3b7f100082428a1  "
      ]
     },
     "execution_count": 2,
     "metadata": {},
     "output_type": "execute_result"
    }
   ],
   "source": [
    "# test sensebox with sonsor types\n",
    "import senseboxAPI\n",
    "import pandas as pd\n",
    "SENSEBOX_ID: str = '669a877ae3b7f1000824289c'\n",
    "sb = senseboxAPI.SenseBox(SENSEBOX_ID)\n",
    "pd.DataFrame(sb.get_sensor_info())"
   ]
  },
  {
   "cell_type": "code",
   "execution_count": 4,
   "id": "13aaf5b4",
   "metadata": {},
   "outputs": [
    {
     "name": "stdout",
     "output_type": "stream",
     "text": [
      "2024-06-29 10:19:32.934191+00:00\n",
      "sensor_id: 669a877ae3b7f1000824289d; title: PM10; datetime_from: 2024-06-29 10:19:32.934191+00:00; datetime_to: 2025-06-29 10:19:32.934205+00:00\n",
      "Request batch with iteration: 0\n",
      "Request batch with iteration: 0\n",
      "Request batch with iteration: 0\n",
      "Request batch with iteration: 0\n",
      "Request batch with iteration: 0\n",
      "Request batch with iteration: 0\n",
      "Request batch with iteration: 0\n",
      "Request batch with iteration: 0\n",
      "Request batch with iteration: 0\n",
      "Request batch with iteration: 0\n",
      "Request batch with iteration: 0\n",
      "Request batch with iteration: 0\n",
      "Request batch with iteration: 0\n",
      "Request batch with iteration: 0\n",
      "Request batch with iteration: 0\n",
      "Request batch with iteration: 0\n",
      "Request batch with iteration: 0\n",
      "Request batch with iteration: 0\n",
      "Request batch with iteration: 0\n",
      "Request batch with iteration: 0\n",
      "Request batch with iteration: 0\n",
      "Request batch with iteration: 0\n",
      "Request batch with iteration: 0\n",
      "102498 datapoints\n",
      "2024-06-29 10:19:32.934191+00:00\n",
      "sensor_id: 669a877ae3b7f1000824289e; title: PM2.5; datetime_from: 2024-06-29 10:19:32.934191+00:00; datetime_to: 2025-06-29 10:19:32.934205+00:00\n",
      "Request batch with iteration: 0\n",
      "Request batch with iteration: 0\n",
      "Request batch with iteration: 0\n",
      "Request batch with iteration: 0\n",
      "Request batch with iteration: 0\n",
      "Request batch with iteration: 0\n",
      "Request batch with iteration: 0\n",
      "Request batch with iteration: 0\n",
      "Request batch with iteration: 0\n",
      "Request batch with iteration: 0\n",
      "Request batch with iteration: 0\n",
      "Request batch with iteration: 0\n",
      "Request batch with iteration: 0\n",
      "Request batch with iteration: 0\n",
      "Request batch with iteration: 0\n",
      "Request batch with iteration: 0\n",
      "Request batch with iteration: 0\n",
      "Request batch with iteration: 0\n",
      "Request batch with iteration: 0\n",
      "Request batch with iteration: 0\n",
      "Request batch with iteration: 0\n",
      "Request batch with iteration: 0\n",
      "Request batch with iteration: 0\n",
      "102498 datapoints\n",
      "2024-06-29 10:19:32.934191+00:00\n",
      "sensor_id: 669a877ae3b7f1000824289f; title: Temperatur; datetime_from: 2024-06-29 10:19:32.934191+00:00; datetime_to: 2025-06-29 10:19:32.934205+00:00\n",
      "Request batch with iteration: 0\n",
      "Request batch with iteration: 0\n",
      "Request batch with iteration: 0\n",
      "Request batch with iteration: 0\n",
      "Request batch with iteration: 0\n",
      "Request batch with iteration: 0\n",
      "Request batch with iteration: 0\n",
      "Request batch with iteration: 0\n",
      "Request batch with iteration: 0\n",
      "Request batch with iteration: 0\n",
      "Request batch with iteration: 0\n",
      "Request batch with iteration: 0\n",
      "Request batch with iteration: 0\n",
      "Request batch with iteration: 0\n",
      "Request batch with iteration: 0\n",
      "Request batch with iteration: 0\n",
      "Request batch with iteration: 0\n",
      "Request batch with iteration: 0\n",
      "Request batch with iteration: 0\n",
      "Request batch with iteration: 0\n",
      "Request batch with iteration: 0\n",
      "Request batch with iteration: 0\n",
      "Request batch with iteration: 0\n",
      "103183 datapoints\n",
      "2024-06-29 10:19:32.934191+00:00\n",
      "sensor_id: 669a877ae3b7f100082428a0; title: rel. Luftfeuchte; datetime_from: 2024-06-29 10:19:32.934191+00:00; datetime_to: 2025-06-29 10:19:32.934205+00:00\n",
      "Request batch with iteration: 0\n",
      "Request batch with iteration: 0\n",
      "Request batch with iteration: 0\n",
      "Request batch with iteration: 0\n",
      "Request batch with iteration: 0\n",
      "Request batch with iteration: 0\n",
      "Request batch with iteration: 0\n",
      "Request batch with iteration: 0\n",
      "Request batch with iteration: 0\n",
      "Request batch with iteration: 0\n",
      "Request batch with iteration: 0\n",
      "Request batch with iteration: 0\n",
      "Request batch with iteration: 0\n",
      "Request batch with iteration: 0\n",
      "Request batch with iteration: 0\n",
      "Request batch with iteration: 0\n",
      "Request batch with iteration: 0\n",
      "Request batch with iteration: 0\n",
      "Request batch with iteration: 0\n",
      "Request batch with iteration: 0\n",
      "Request batch with iteration: 0\n",
      "Request batch with iteration: 0\n",
      "Request batch with iteration: 0\n",
      "103183 datapoints\n",
      "2024-06-29 10:19:32.934191+00:00\n",
      "sensor_id: 669a877ae3b7f100082428a1; title: Luftdruck; datetime_from: 2024-06-29 10:19:32.934191+00:00; datetime_to: 2025-06-29 10:19:32.934205+00:00\n",
      "Request batch with iteration: 0\n",
      "Request batch with iteration: 0\n",
      "Request batch with iteration: 0\n",
      "Request batch with iteration: 0\n",
      "Request batch with iteration: 0\n",
      "Request batch with iteration: 0\n",
      "Request batch with iteration: 0\n",
      "Request batch with iteration: 0\n",
      "Request batch with iteration: 0\n",
      "Request batch with iteration: 0\n",
      "Request batch with iteration: 0\n",
      "Request batch with iteration: 0\n",
      "Request batch with iteration: 0\n",
      "Request batch with iteration: 0\n",
      "Request batch with iteration: 0\n",
      "Request batch with iteration: 0\n",
      "Request batch with iteration: 0\n",
      "Request batch with iteration: 0\n",
      "Request batch with iteration: 0\n",
      "Request batch with iteration: 0\n",
      "Request batch with iteration: 0\n",
      "Request batch with iteration: 0\n",
      "Request batch with iteration: 0\n",
      "103183 datapoints\n"
     ]
    }
   ],
   "source": [
    "dbm = DBManagement('669a877ae3b7f1000824289c')\n",
    "dbm.db_setup()\n",
    "dbm.write_new_data(datetime_from=dt.datetime.now(tz=timezone.utc)-dt.timedelta(days=365), \n",
    "                           datetime_to=dt.datetime.now(tz=timezone.utc)-dt.timedelta(days=0))"
   ]
  },
  {
   "cell_type": "code",
   "execution_count": null,
   "id": "e845e6ac",
   "metadata": {},
   "outputs": [],
   "source": []
  },
  {
   "cell_type": "code",
   "execution_count": null,
   "id": "3509f3f7",
   "metadata": {},
   "outputs": [],
   "source": []
  }
 ],
 "metadata": {
  "kernelspec": {
   "display_name": ".venv",
   "language": "python",
   "name": "python3"
  },
  "language_info": {
   "codemirror_mode": {
    "name": "ipython",
    "version": 3
   },
   "file_extension": ".py",
   "mimetype": "text/x-python",
   "name": "python",
   "nbconvert_exporter": "python",
   "pygments_lexer": "ipython3",
   "version": "3.12.7"
  }
 },
 "nbformat": 4,
 "nbformat_minor": 5
}
